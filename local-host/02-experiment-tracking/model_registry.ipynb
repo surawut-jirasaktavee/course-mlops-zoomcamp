{
 "cells": [
  {
   "cell_type": "markdown",
   "id": "68f5c40a",
   "metadata": {},
   "source": [
    "# MODEL REGISTRY WITH MLFLOW"
   ]
  },
  {
   "cell_type": "markdown",
   "id": "7eb532d5",
   "metadata": {},
   "source": [
    "## SET UP MLFLOW EXPERIMENT TRACKING LOCAL HOST"
   ]
  },
  {
   "cell_type": "code",
   "execution_count": 1,
   "id": "5a156b26",
   "metadata": {},
   "outputs": [],
   "source": [
    "import mlflow\n",
    "from mlflow.tracking import MlflowClient\n",
    "\n",
    "mlflow_tracking_uri = \"sqlite:///mlflow.db\"\n",
    "\n",
    "client = MlflowClient(tracking_uri=mlflow_tracking_uri)"
   ]
  },
  {
   "cell_type": "markdown",
   "id": "8d7668bc",
   "metadata": {},
   "source": [
    "### List all experiments and inspect some of them"
   ]
  },
  {
   "cell_type": "code",
   "execution_count": 2,
   "id": "4fbb67a3",
   "metadata": {},
   "outputs": [
    {
     "data": {
      "text/plain": [
       "[<Experiment: artifact_location='./mlruns/0', experiment_id='0', lifecycle_stage='active', name='Default', tags={}>,\n",
       " <Experiment: artifact_location='./mlruns/6', experiment_id='6', lifecycle_stage='active', name='trip_prediction-experiment', tags={}>]"
      ]
     },
     "execution_count": 2,
     "metadata": {},
     "output_type": "execute_result"
    }
   ],
   "source": [
    "client.list_experiments()"
   ]
  },
  {
   "cell_type": "code",
   "execution_count": 5,
   "id": "b00be5c2",
   "metadata": {},
   "outputs": [],
   "source": [
    "from mlflow.entities import ViewType\n",
    "\n",
    "runs = client.search_runs(\n",
    "    experiment_ids = '6',\n",
    "    filter_string = \"metrics.rmse < 6.5\",\n",
    "    run_view_type = ViewType.ACTIVE_ONLY,\n",
    "    max_results = 10,\n",
    "    order_by = ['metric.rmse ASC']\n",
    ")"
   ]
  },
  {
   "cell_type": "code",
   "execution_count": 6,
   "id": "bab62896",
   "metadata": {},
   "outputs": [
    {
     "name": "stdout",
     "output_type": "stream",
     "text": [
      "run id: c1db82cc4b45493a98c63bf0c8cc89e4, rmse: 6.3511\n",
      "run id: 0200c2138adc4b76a41383d67c640a8c, rmse: 6.3511\n",
      "run id: ed8ee5c154214b4980918ae620d9a6c5, rmse: 6.3693\n",
      "run id: 82ca31957bdb48068a6662b1a02bb405, rmse: 6.3825\n",
      "run id: f97291c0381d410da4ca2deb6af767b1, rmse: 6.4055\n",
      "run id: 66877fe61b5f4b97876b7b433d1f8171, rmse: 6.4110\n",
      "run id: 0c48c5b0a2e94828973dbacbaaf8e57f, rmse: 6.4444\n",
      "run id: fb8c29338690490a900160af3e9f76c3, rmse: 6.4460\n",
      "run id: 6d63f2b4d2b44784a23c0795f4ba02ec, rmse: 6.4728\n"
     ]
    }
   ],
   "source": [
    "for run in runs:\n",
    "    print(f\"run id: {run.info.run_id}, rmse: {run.data.metrics['rmse']:.4f}\")"
   ]
  },
  {
   "cell_type": "markdown",
   "id": "3085231c",
   "metadata": {},
   "source": [
    "### Interacting with the Model Registry\n",
    "\n",
    "- set tracking uri\n",
    "- define run id\n",
    "- define model uri\n",
    "- register model with register_model method\n",
    "    - parameter\n",
    "        1. model uri\n",
    "        2. model name\n",
    "        \n",
    "This section use the **MlflowClient** instance to:\n",
    "\n",
    "    1. Register a new version for the experiment \"taxi_trip_regressor\"\n",
    "    2. Retrieve the latests versions of the model \"taxi_trip_regressor\" and check that a new version in this case \"3\" was created.\n",
    "    3. Transition the version \"3\" to \"Staging\" and adding annotations to it."
   ]
  },
  {
   "cell_type": "markdown",
   "id": "07758508",
   "metadata": {},
   "source": [
    "**Registry model with MLflow ui**\n",
    "\n",
    "\n",
    "`Registry base model`\n",
    "!['base model'](https://github.com/surawut-jirasaktavee/course-mlops-zoomcamp/blob/main/local-host/02-experiment-tracking/images/Base_model.png)"
   ]
  },
  {
   "cell_type": "markdown",
   "id": "db150cc9",
   "metadata": {},
   "source": [
    "`base model automate set to version 1`\n",
    "!['version1'](https://github.com/surawut-jirasaktavee/course-mlops-zoomcamp/blob/main/local-host/02-experiment-tracking/images/version1.png)"
   ]
  },
  {
   "cell_type": "markdown",
   "id": "e113c380",
   "metadata": {},
   "source": [
    "`Registry model(Lasso) version 2 and switch to staging`\n",
    "!['Lasso'](https://github.com/surawut-jirasaktavee/course-mlops-zoomcamp/blob/main/local-host/02-experiment-tracking/images/Registry_version2.png)"
   ]
  },
  {
   "cell_type": "markdown",
   "id": "69794faa",
   "metadata": {},
   "source": [
    "**Registry model with python**"
   ]
  },
  {
   "cell_type": "code",
   "execution_count": 7,
   "id": "15756ce8",
   "metadata": {},
   "outputs": [
    {
     "name": "stderr",
     "output_type": "stream",
     "text": [
      "Registered model 'taxi_trip_regressor' already exists. Creating a new version of this model...\n",
      "2022/06/18 23:18:55 INFO mlflow.tracking._model_registry.client: Waiting up to 300 seconds for model version to finish creation.                     Model name: taxi_trip_regressor, version 3\n",
      "Created version '3' of model 'taxi_trip_regressor'.\n"
     ]
    },
    {
     "data": {
      "text/plain": [
       "<ModelVersion: creation_timestamp=1655569135884, current_stage='None', description=None, last_updated_timestamp=1655569135884, name='taxi_trip_regressor', run_id='c1db82cc4b45493a98c63bf0c8cc89e4', run_link=None, source='./mlruns/6/c1db82cc4b45493a98c63bf0c8cc89e4/artifacts/model', status='READY', status_message=None, tags={}, user_id=None, version=3>"
      ]
     },
     "execution_count": 7,
     "metadata": {},
     "output_type": "execute_result"
    }
   ],
   "source": [
    "mlflow.set_tracking_uri(mlflow_tracking_uri)\n",
    "\n",
    "run_id = \"c1db82cc4b45493a98c63bf0c8cc89e4\"\n",
    "model_uri = f\"runs:/{run_id}/model\"\n",
    "mlflow.register_model(model_uri=model_uri, name=\"taxi_trip_regressor\")"
   ]
  },
  {
   "cell_type": "markdown",
   "id": "d5ffd343",
   "metadata": {},
   "source": [
    "![Register model](https://github.com/surawut-jirasaktavee/course-mlops-zoomcamp/blob/main/local-host/02-experiment-tracking/images/Registry_version3.png)"
   ]
  },
  {
   "cell_type": "code",
   "execution_count": 8,
   "id": "e2858b60",
   "metadata": {},
   "outputs": [
    {
     "name": "stdout",
     "output_type": "stream",
     "text": [
      "version: 2, stage: Staging\n",
      "version: 3, stage: None\n"
     ]
    }
   ],
   "source": [
    "model_name = \"taxi_trip_regressor\"\n",
    "latest_versions = client.get_latest_versions(name=model_name)\n",
    "\n",
    "model_versions = list()\n",
    "\n",
    "for version in latest_versions:\n",
    "    print(f\"version: {version.version}, stage: {version.current_stage}\")\n",
    "    model_versions.append(version.version)"
   ]
  },
  {
   "cell_type": "code",
   "execution_count": 10,
   "id": "2d801550",
   "metadata": {},
   "outputs": [
    {
     "data": {
      "text/plain": [
       "[2, 3]"
      ]
     },
     "execution_count": 10,
     "metadata": {},
     "output_type": "execute_result"
    }
   ],
   "source": [
    "model_versions"
   ]
  },
  {
   "cell_type": "code",
   "execution_count": 11,
   "id": "dd4f891f",
   "metadata": {},
   "outputs": [
    {
     "data": {
      "text/plain": [
       "<ModelVersion: creation_timestamp=1655569135884, current_stage='Staging', description=None, last_updated_timestamp=1655569930186, name='taxi_trip_regressor', run_id='c1db82cc4b45493a98c63bf0c8cc89e4', run_link=None, source='./mlruns/6/c1db82cc4b45493a98c63bf0c8cc89e4/artifacts/model', status='READY', status_message=None, tags={}, user_id=None, version=3>"
      ]
     },
     "execution_count": 11,
     "metadata": {},
     "output_type": "execute_result"
    }
   ],
   "source": [
    "selected_model = model_versions[-1]\n",
    "model_stages = [\"Staging\", \"Production\", \"Archived\", \"None\"]\n",
    "new_stage = model_stages[0]\n",
    "\n",
    "client.transition_model_version_stage(\n",
    "    name=model_name,\n",
    "    version=selected_model,\n",
    "    stage=new_stage,\n",
    "    archive_existing_versions=False\n",
    ")"
   ]
  },
  {
   "cell_type": "markdown",
   "id": "16172b1f",
   "metadata": {},
   "source": [
    "## Change model from Staging zone to Production\n",
    "\n",
    "`Staging to Production with MLflow ui`\n",
    "!['staging to prod'](https://github.com/surawut-jirasaktavee/course-mlops-zoomcamp/blob/main/local-host/02-experiment-tracking/images/staging-to-prod.png)\n",
    "\n",
    "\n",
    "!['staging to prod'](https://github.com/surawut-jirasaktavee/course-mlops-zoomcamp/blob/main/local-host/02-experiment-tracking/images/staging-to-prod2.png)"
   ]
  },
  {
   "cell_type": "markdown",
   "id": "e9f4a088",
   "metadata": {},
   "source": [
    "### Comparing versions and selecting the new \"Production\" model\n",
    "\n",
    "In the last section, we will retrieve models registered in the model registry and compare their performance on an unseen test set. The idea is to simulate the scenario in which a deployment engineer has to interact with the model registry to decide whether to update the model version that is in production or not.\n",
    "\n",
    "These are the steps:\n",
    "\n",
    "1. Load the test dataset, which corresponds to the NYC Green Taxi data from the month of March 2021.\n",
    "2. Download the DictVectorizer that was fitted using the training data and saved to MLflow as an artifact, and load it with pickle.\n",
    "3. Preprocess the test set using the DictVectorizer so we can properly feed the regressors.\n",
    "4. Make predictions on the test set using the model versions that are currently in the \"Staging\" and \"Production\" stages, and compare their performance.\n",
    "5. Based on the results, update the \"Production\" model version accordingly.\n",
    "\n",
    "Note: the model registry doesn't actually deploy the model to production when you transition a model to the \"Production\" stage, it just assign a label to that model version. You should complement the registry with some CI/CD code that does the actual deployment.\n",
    "\n"
   ]
  },
  {
   "cell_type": "code",
   "execution_count": 12,
   "id": "1b2af874",
   "metadata": {},
   "outputs": [],
   "source": [
    "from sklearn.metrics import mean_squared_error\n",
    "import pandas as pd\n",
    "\n",
    "def read_dataframe(filename):\n",
    "    df = pd.read_parquet(filename)\n",
    "        \n",
    "    df['lpep_dropoff_datetime'] = pd.to_datetime(df['lpep_dropoff_datetime'])\n",
    "    df['lpep_pickup_datetime'] = pd.to_datetime(df['lpep_pickup_datetime'])\n",
    "    \n",
    "    df['duration'] = df['lpep_dropoff_datetime'] - df['lpep_pickup_datetime']\n",
    "    df['duration'] = df.duration.apply(lambda x: x.total_seconds() / 60)\n",
    "    \n",
    "    df = df[(df['duration'] >= 1) & (df.duration <= 60)]\n",
    "    \n",
    "    categorical = ['PULocationID', 'DOLocationID']\n",
    "    df[categorical] = df[categorical].astype(str)\n",
    "    \n",
    "    return df\n",
    "\n",
    "def preprocess(df, dv):\n",
    "    df['PU_DO'] = df['PULocationID'] + '_' + df['DOLocationID']\n",
    "    categorical = ['PU_DO']\n",
    "    numerical = ['trip_distance']\n",
    "    train_dicts = df[categorical + numerical].to_dict(orient='records')\n",
    "    \n",
    "    return dv.transform(train_dicts)\n",
    "\n",
    "def test_model(name, X_test, y_test, stage_name=None, version_no=None, model_name=None, stage=False, version=False, runs=False):\n",
    "    \n",
    "    '''\n",
    "    Choose how to load model\n",
    "    - version\n",
    "    - stage\n",
    "    - model flavor\n",
    "    '''\n",
    "    \n",
    "    if version:\n",
    "        model = mlflow.pyfunc.load_model(f\"models:/{name}/{version}\")\n",
    "        y_pred = model.predict(X_test)\n",
    "    elif runs:\n",
    "        model = mlflow.pyfunc.load_model(f\"runs:/{name}/{model_name}\")\n",
    "        y_pred = model.predict(X_test)\n",
    "    elif stage:\n",
    "        model = mlflow.pyfunc.load_model(f\"models:/{name}/{stage_name}\")\n",
    "        y_pred = model.predict(X_test)\n",
    "    \n",
    "    return {\"rmse\": mean_squared_error(y_test, y_pred, squared=False)}\n",
    "    "
   ]
  },
  {
   "cell_type": "code",
   "execution_count": 13,
   "id": "64978242",
   "metadata": {},
   "outputs": [],
   "source": [
    "mlflow.set_tracking_uri(mlflow_tracking_uri)\n",
    "\n",
    "run_id = \"c1db82cc4b45493a98c63bf0c8cc89e4\"\n",
    "model_name = \"taxi_trip_regressor\"\n",
    "\n",
    "model_stages = [\"Staging\", \"Production\", \"Archived\", \"None\"]"
   ]
  },
  {
   "cell_type": "code",
   "execution_count": 14,
   "id": "27d5f292",
   "metadata": {},
   "outputs": [],
   "source": [
    "test_path = './data/green_tripdata_2021-03.parquet'"
   ]
  },
  {
   "cell_type": "code",
   "execution_count": 15,
   "id": "b8d1dd18",
   "metadata": {},
   "outputs": [],
   "source": [
    "df_test = read_dataframe(test_path)"
   ]
  },
  {
   "cell_type": "code",
   "execution_count": 16,
   "id": "b1f78c11",
   "metadata": {},
   "outputs": [
    {
     "data": {
      "text/plain": [
       "'/Users/premsurawut/_Github/MLOps/course-mlops-zoomcamp/local-host/02-experiment-tracking/preprocessor'"
      ]
     },
     "execution_count": 16,
     "metadata": {},
     "output_type": "execute_result"
    }
   ],
   "source": [
    "client.download_artifacts(run_id=run_id, path='preprocessor', dst_path='.')"
   ]
  },
  {
   "cell_type": "code",
   "execution_count": 17,
   "id": "1131e1c7",
   "metadata": {},
   "outputs": [],
   "source": [
    "import pickle\n",
    "\n",
    "with open('preprocessor/preprocessor.b', 'rb') as f_in:\n",
    "    dv = pickle.load(f_in)"
   ]
  },
  {
   "cell_type": "code",
   "execution_count": 18,
   "id": "fdae3b41",
   "metadata": {},
   "outputs": [
    {
     "data": {
      "text/plain": [
       "<80372x13221 sparse matrix of type '<class 'numpy.float64'>'\n",
       "\twith 153356 stored elements in Compressed Sparse Row format>"
      ]
     },
     "execution_count": 18,
     "metadata": {},
     "output_type": "execute_result"
    }
   ],
   "source": [
    "X_test = preprocess(df_test, dv)\n",
    "X_test"
   ]
  },
  {
   "cell_type": "code",
   "execution_count": 19,
   "id": "c3401e4e",
   "metadata": {},
   "outputs": [
    {
     "data": {
      "text/plain": [
       "array([ 8.35      ,  5.23333333, 20.33333333, ...,  9.        ,\n",
       "       25.        ,  9.        ])"
      ]
     },
     "execution_count": 19,
     "metadata": {},
     "output_type": "execute_result"
    }
   ],
   "source": [
    "target = 'duration'\n",
    "y_test = df_test[target].values\n",
    "y_test"
   ]
  },
  {
   "cell_type": "code",
   "execution_count": 22,
   "id": "770d6ead",
   "metadata": {},
   "outputs": [
    {
     "name": "stdout",
     "output_type": "stream",
     "text": [
      "CPU times: user 1e+03 ns, sys: 1 µs, total: 2 µs\n",
      "Wall time: 5.01 µs\n"
     ]
    }
   ],
   "source": [
    "%time \n",
    "\n",
    "prod = test_model(name=model_name, X_test=X_test, y_test=y_test, stage_name=\"Production\", stage=True) "
   ]
  },
  {
   "cell_type": "code",
   "execution_count": 24,
   "id": "7d6a1025",
   "metadata": {},
   "outputs": [
    {
     "name": "stdout",
     "output_type": "stream",
     "text": [
      "CPU times: user 2 µs, sys: 0 ns, total: 2 µs\n",
      "Wall time: 3.81 µs\n",
      "[23:40:12] WARNING: /Users/runner/work/xgboost/xgboost/python-package/build/temp.macosx-11.0-arm64-3.8/xgboost/src/objective/regression_obj.cu:203: reg:linear is now deprecated in favor of reg:squarederror.\n"
     ]
    }
   ],
   "source": [
    "%time \n",
    "new_model = test_model(name=run_id, X_test=X_test, y_test=y_test, model_name='models_xgboost', runs=True)"
   ]
  },
  {
   "cell_type": "code",
   "execution_count": 25,
   "id": "3f824b6f",
   "metadata": {},
   "outputs": [
    {
     "name": "stdout",
     "output_type": "stream",
     "text": [
      "COMPARING BETWEEN THE CURRENT MODEL IN PRODUCTION AND NEW MODEL IN STAGING\n",
      "Prodcuction: Linear regression, {'rmse': 7.720735231839729}\n",
      "Staging : XGBooster, {'rmse': 6.295727269107297}\n"
     ]
    }
   ],
   "source": [
    "print(\"COMPARING BETWEEN THE CURRENT MODEL IN PRODUCTION AND NEW MODEL IN STAGING\")\n",
    "print(f\"Prodcuction: Linear regression, {prod}\")\n",
    "print(f\"Staging : XGBooster, {new_model}\")"
   ]
  },
  {
   "cell_type": "markdown",
   "id": "03475ed9",
   "metadata": {},
   "source": [
    "### PUT NEW MODEL TO THE PRODUCTION"
   ]
  },
  {
   "cell_type": "code",
   "execution_count": 27,
   "id": "09c2db7c",
   "metadata": {},
   "outputs": [
    {
     "data": {
      "text/plain": [
       "'Uploaded New model to Production successfully'"
      ]
     },
     "execution_count": 27,
     "metadata": {},
     "output_type": "execute_result"
    }
   ],
   "source": [
    "def update_new_model(model_name, new_prod_ver, stage=\"Production\", archive_existing_versions=False):\n",
    "    client.transition_model_version_stage(\n",
    "        name=model_name,\n",
    "        version=new_prod_ver,\n",
    "        stage=stage,\n",
    "        archive_existing_versions=archive_existing_versions\n",
    "    )\n",
    "    return \"Uploaded New model to Production successfully\"\n",
    "\n",
    "update_new_model(model_name, 3, archive_existing_versions=True)"
   ]
  },
  {
   "cell_type": "markdown",
   "id": "eca3c05b",
   "metadata": {},
   "source": [
    "### UPDATE MODEL STATUS"
   ]
  },
  {
   "cell_type": "code",
   "execution_count": 28,
   "id": "d3a5277c",
   "metadata": {},
   "outputs": [],
   "source": [
    "def update_model_metadata(model_name, new_prod_ver, old_prod_ver):\n",
    "    \n",
    "    from datetime import datetime\n",
    "    date = datetime.today().date()\n",
    "    \n",
    "    \n",
    "    client.update_model_version(\n",
    "        name=model_name,\n",
    "        version=new_prod_ver,\n",
    "        description=f\"Uploaded model to production on {date}\")\n",
    "    \n",
    "    client.update_model_version(\n",
    "        name=model_name,\n",
    "        version=old_prod_ver,\n",
    "        description=f\"Transition model to archive on {date}\")\n",
    "    \n",
    "    return f\"Operation Succesfully\""
   ]
  },
  {
   "cell_type": "code",
   "execution_count": 29,
   "id": "b248aaf0",
   "metadata": {},
   "outputs": [
    {
     "data": {
      "text/plain": [
       "'Operation Succesfully'"
      ]
     },
     "execution_count": 29,
     "metadata": {},
     "output_type": "execute_result"
    }
   ],
   "source": [
    "update_model_metadata(model_name, 3, 1)"
   ]
  },
  {
   "cell_type": "markdown",
   "id": "92b6c040",
   "metadata": {},
   "source": [
    "**Switch New model to Production and Old Production to Archived**\n",
    "\n",
    "!['new model to production](https://github.com/surawut-jirasaktavee/course-mlops-zoomcamp/blob/main/local-host/02-experiment-tracking/images/new_model-to-prod.png)"
   ]
  }
 ],
 "metadata": {
  "kernelspec": {
   "display_name": "Python 3 (ipykernel)",
   "language": "python",
   "name": "python3"
  },
  "language_info": {
   "codemirror_mode": {
    "name": "ipython",
    "version": 3
   },
   "file_extension": ".py",
   "mimetype": "text/x-python",
   "name": "python",
   "nbconvert_exporter": "python",
   "pygments_lexer": "ipython3",
   "version": "3.9.12"
  }
 },
 "nbformat": 4,
 "nbformat_minor": 5
}
