{
 "cells": [
  {
   "cell_type": "markdown",
   "id": "8d32a672",
   "metadata": {},
   "source": [
    "# Homework of session 1\n",
    "----"
   ]
  },
  {
   "cell_type": "markdown",
   "id": "a5e82a4b",
   "metadata": {},
   "source": [
    "The goal of this homework is to train a simple model for predicting the duration of a ride - similar to what we did in this module."
   ]
  },
  {
   "cell_type": "markdown",
   "id": "b3169f79",
   "metadata": {},
   "source": [
    "## LIBRARY"
   ]
  },
  {
   "cell_type": "code",
   "execution_count": 2,
   "id": "c71e990a",
   "metadata": {},
   "outputs": [],
   "source": [
    "import pandas as pd\n",
    "import seaborn as sns\n",
    "import warnings\n",
    "warnings.filterwarnings(\"ignore\")\n",
    "\n",
    "\n",
    "from sklearn.feature_extraction import DictVectorizer\n",
    "from sklearn.linear_model import LinearRegression\n",
    "\n",
    "from sklearn.metrics import mean_squared_error"
   ]
  },
  {
   "cell_type": "markdown",
   "id": "85ac9a82",
   "metadata": {},
   "source": [
    "# Q1. Downloading the data\n",
    "----"
   ]
  },
  {
   "cell_type": "markdown",
   "id": "a14b9c3e",
   "metadata": {},
   "source": [
    "We'll use the same <a href=\"https://www1.nyc.gov/site/tlc/about/tlc-trip-record-data.page\" target=\"_blank\">NYC Taxi dataset</a>, but instead of \"Green Taxi Trip Records\", we'll use \"For-Hire Vehicle Trip Records\".\n",
    "\n",
    "Download the data for January and February 2021.\n",
    "\n",
    "Note that you need \"For-Hire Vehicle Trip Records\", not \"High Volume For-Hire Vehicle Trip Records\".\n",
    "\n",
    "Read the data for January. How many records are there?\n",
    "\n",
    "- 1054112\n",
    "- 1154112\n",
    "- 1254112\n",
    "- 1354112"
   ]
  },
  {
   "cell_type": "code",
   "execution_count": 12,
   "id": "8192f8ea",
   "metadata": {},
   "outputs": [
    {
     "name": "stdout",
     "output_type": "stream",
     "text": [
      "/home/premsurawut/mlops-zoomcamp/notebook/01-Intro/data\n",
      "--2022-06-11 15:00:26--  https://nyc-tlc.s3.amazonaws.com/trip+data/fhv_tripdata_2021-01.parquet\n",
      "Resolving nyc-tlc.s3.amazonaws.com (nyc-tlc.s3.amazonaws.com)... 52.217.231.41\n",
      "Connecting to nyc-tlc.s3.amazonaws.com (nyc-tlc.s3.amazonaws.com)|52.217.231.41|:443... connected.\n",
      "HTTP request sent, awaiting response... 200 OK\n",
      "Length: 11886281 (11M) [binary/octet-stream]\n",
      "Saving to: ‘fhv_tripdata_2021-01.parquet’\n",
      "\n",
      "fhv_tripdata_2021-0 100%[===================>]  11.33M  13.0MB/s    in 0.9s    \n",
      "\n",
      "2022-06-11 15:00:27 (13.0 MB/s) - ‘fhv_tripdata_2021-01.parquet’ saved [11886281/11886281]\n",
      "\n",
      "--2022-06-11 15:00:28--  https://nyc-tlc.s3.amazonaws.com/trip+data/fhv_tripdata_2021-02.parquet\n",
      "Resolving nyc-tlc.s3.amazonaws.com (nyc-tlc.s3.amazonaws.com)... 52.217.231.41\n",
      "Connecting to nyc-tlc.s3.amazonaws.com (nyc-tlc.s3.amazonaws.com)|52.217.231.41|:443... connected.\n",
      "HTTP request sent, awaiting response... 200 OK\n",
      "Length: 10645466 (10M) [binary/octet-stream]\n",
      "Saving to: ‘fhv_tripdata_2021-02.parquet’\n",
      "\n",
      "fhv_tripdata_2021-0 100%[===================>]  10.15M  12.5MB/s    in 0.8s    \n",
      "\n",
      "2022-06-11 15:00:29 (12.5 MB/s) - ‘fhv_tripdata_2021-02.parquet’ saved [10645466/10645466]\n",
      "\n"
     ]
    }
   ],
   "source": [
    "%cd ./data\n",
    "!wget https://nyc-tlc.s3.amazonaws.com/trip+data/fhv_tripdata_2021-01.parquet\n",
    "!wget https://nyc-tlc.s3.amazonaws.com/trip+data/fhv_tripdata_2021-02.parquet"
   ]
  },
  {
   "cell_type": "code",
   "execution_count": 19,
   "id": "4d79a6e3",
   "metadata": {},
   "outputs": [],
   "source": [
    "df = pd.read_parquet('./fhv_tripdata_2021-01.parquet')"
   ]
  },
  {
   "cell_type": "code",
   "execution_count": 23,
   "id": "d2fa5996",
   "metadata": {},
   "outputs": [
    {
     "name": "stdout",
     "output_type": "stream",
     "text": [
      "Q1: How many records are there?\n",
      "A1: 1154112\n"
     ]
    }
   ],
   "source": [
    "print('Q1: How many records are there?')\n",
    "print(f'A1: {len(df)}')"
   ]
  },
  {
   "cell_type": "markdown",
   "id": "f0015f10",
   "metadata": {},
   "source": [
    "# Q2. Computing duration\n",
    "----"
   ]
  },
  {
   "cell_type": "markdown",
   "id": "43eebfdc",
   "metadata": {},
   "source": [
    "Now let's compute the duration variable. It should contain the duration of a ride in minutes.\n",
    "\n",
    "What's the average trip duration in January?\n",
    "\n",
    "- 15.16\n",
    "- 19.16\n",
    "- 24.16\n",
    "- 29.16"
   ]
  },
  {
   "cell_type": "code",
   "execution_count": 21,
   "id": "0bfb5845",
   "metadata": {},
   "outputs": [],
   "source": [
    "df['duration'] = df.dropOff_datetime - df.pickup_datetime\n",
    "df['duration'] = df.duration.dt.total_seconds() / 60"
   ]
  },
  {
   "cell_type": "code",
   "execution_count": 26,
   "id": "5034d5cf",
   "metadata": {},
   "outputs": [
    {
     "name": "stdout",
     "output_type": "stream",
     "text": [
      "Q2: What's the average trip duration in January?\n",
      "A2: 19.167\n"
     ]
    }
   ],
   "source": [
    "print(\"Q2: What's the average trip duration in January?\")\n",
    "print(f\"A2: {round(df['duration'].mean(), 3)}\")"
   ]
  },
  {
   "cell_type": "markdown",
   "id": "814c42c7",
   "metadata": {},
   "source": [
    "## Data preparation\n",
    "Check the distribution of the duration variable. There are some outliers.\n",
    "\n",
    "Let's remove them and keep only the records where the duration was between 1 and 60 minutes (inclusive).\n",
    "\n",
    "How many records did you drop?"
   ]
  },
  {
   "cell_type": "code",
   "execution_count": 29,
   "id": "9fdd8f17",
   "metadata": {},
   "outputs": [
    {
     "name": "stdout",
     "output_type": "stream",
     "text": [
      "Q: How many records did you drop?\n",
      "A: 44286\n"
     ]
    }
   ],
   "source": [
    "df = df[(df.duration >= 1) & (df.duration <= 60)].copy()\n",
    "print('Q: How many records did you drop?')\n",
    "print(f'A: {1154112 - len(df)}')"
   ]
  },
  {
   "cell_type": "markdown",
   "id": "299898c3",
   "metadata": {},
   "source": [
    "# Q3. Missing values\n",
    "----"
   ]
  },
  {
   "cell_type": "markdown",
   "id": "72ae08d6",
   "metadata": {},
   "source": [
    "The features we'll use for our model are the pickup and dropoff location IDs.\n",
    "\n",
    "But they have a lot of missing values there. Let's replace them with \"-1\".\n",
    "\n",
    "What's the fractions of missing values for the pickup location ID? I.e. fraction of \"-1\"s after you filled the NAs.\n",
    "\n",
    "- 53%\n",
    "- 63%\n",
    "- 73%\n",
    "- 83%"
   ]
  },
  {
   "cell_type": "code",
   "execution_count": 47,
   "id": "21563bc4",
   "metadata": {},
   "outputs": [
    {
     "name": "stdout",
     "output_type": "stream",
     "text": [
      "Q3: What is the fractions of missing values for pickup location ID?\n",
      "A3: 83.52732770722618\n"
     ]
    }
   ],
   "source": [
    "categorical = ['PUlocationID', 'DOlocationID']\n",
    "\n",
    "pulocation_id = len(df['PUlocationID'])\n",
    "df[categorical] = df[categorical].fillna(-1).astype('int')\n",
    "pulocation_id_filled = len(df[df['PUlocationID'] == -1 ])\n",
    "fraction_pu_id = pulocation_id_filled / pulocation_id * 100\n",
    "\n",
    "print('Q3: What is the fractions of missing values for pickup location ID?')\n",
    "print(f'A3: {fraction_pu_id}')"
   ]
  },
  {
   "cell_type": "markdown",
   "id": "93d22ca4",
   "metadata": {},
   "source": [
    "# Q4. One-hot encoding\n",
    "----"
   ]
  },
  {
   "cell_type": "markdown",
   "id": "1372afa2",
   "metadata": {},
   "source": [
    "Let's apply one-hot encoding to the pickup and dropoff location IDs. We'll use only these two features for our model.\n",
    "\n",
    "Turn the dataframe into a list of dictionaries\n",
    "Fit a dictionary vectorizer\n",
    "Get a feature matrix from it\n",
    "What's the dimensionality of this matrix? (The number of columns).\n",
    "\n",
    "- 2\n",
    "- 152\n",
    "- 352\n",
    "- 525\n",
    "- 725"
   ]
  },
  {
   "cell_type": "code",
   "execution_count": 48,
   "id": "5371a1c6",
   "metadata": {},
   "outputs": [],
   "source": [
    "df[categorical] = df[categorical].astype('str')"
   ]
  },
  {
   "cell_type": "code",
   "execution_count": 49,
   "id": "5853d917",
   "metadata": {},
   "outputs": [],
   "source": [
    "train_dicts = df[categorical].to_dict(orient='records')"
   ]
  },
  {
   "cell_type": "code",
   "execution_count": 50,
   "id": "c8e55939",
   "metadata": {},
   "outputs": [],
   "source": [
    "dv = DictVectorizer()\n",
    "X_train = dv.fit_transform(train_dicts) "
   ]
  },
  {
   "cell_type": "code",
   "execution_count": 54,
   "id": "685976fb",
   "metadata": {},
   "outputs": [],
   "source": [
    "y_train = df.duration.values"
   ]
  },
  {
   "cell_type": "code",
   "execution_count": 55,
   "id": "25335316",
   "metadata": {},
   "outputs": [
    {
     "name": "stdout",
     "output_type": "stream",
     "text": [
      "Q4: What is the dimensionality of this matrix?\n",
      "A4: 525\n"
     ]
    }
   ],
   "source": [
    "print('Q4: What is the dimensionality of this matrix?')\n",
    "print(f'A4: {len(dv.feature_names_)}')"
   ]
  },
  {
   "cell_type": "markdown",
   "id": "e36161b1",
   "metadata": {},
   "source": [
    "# Q5. Training a model\n",
    "----"
   ]
  },
  {
   "cell_type": "markdown",
   "id": "16afba3d",
   "metadata": {},
   "source": [
    "Now let's use the feature matrix from the previous step to train a model.\n",
    "\n",
    "Train a plain linear regression model with default parameters\n",
    "Calculate the RMSE of the model on the training data\n",
    "What's the RMSE on train?\n",
    "\n",
    "- 5.52\n",
    "- 10.52\n",
    "- 15.52\n",
    "- 20.52"
   ]
  },
  {
   "cell_type": "code",
   "execution_count": 57,
   "id": "211c05d2",
   "metadata": {},
   "outputs": [
    {
     "name": "stdout",
     "output_type": "stream",
     "text": [
      "Q5: What is the RMSE on train\n",
      "A5: 10.528519107205451\n"
     ]
    }
   ],
   "source": [
    "lr = LinearRegression()\n",
    "lr.fit(X_train, y_train)\n",
    "\n",
    "y_pred = lr.predict(X_train)\n",
    "\n",
    "mse_result = mean_squared_error(y_train, y_pred, squared=False)\n",
    "print('Q5: What is the RMSE on train')\n",
    "print(f'A5: {mse_result}')"
   ]
  },
  {
   "cell_type": "markdown",
   "id": "83d9e52b",
   "metadata": {},
   "source": [
    "# Q6. Evaluating the model\n",
    "----"
   ]
  },
  {
   "cell_type": "markdown",
   "id": "31c521ad",
   "metadata": {},
   "source": [
    "Now let's apply this model to the validation dataset (Feb 2021).\n",
    "\n",
    "What's the RMSE on validation?\n",
    "\n",
    "- 6.01\n",
    "- 11.01\n",
    "- 16.01\n",
    "- 21.01"
   ]
  },
  {
   "cell_type": "code",
   "execution_count": 58,
   "id": "ff6cf048",
   "metadata": {},
   "outputs": [],
   "source": [
    "categorical = ['PUlocationID', 'DOlocationID']\n",
    "\n",
    "def read_data(filename):\n",
    "    df = pd.read_parquet(filename)\n",
    "    \n",
    "    df['duration'] = df.dropOff_datetime - df.pickup_datetime\n",
    "    df['duration'] = df.duration.dt.total_seconds() / 60\n",
    "\n",
    "    df = df[(df.duration >= 1) & (df.duration <= 60)].copy()\n",
    "\n",
    "    df[categorical] = df[categorical].fillna(-1).astype('int').astype('str')\n",
    "    \n",
    "    return df"
   ]
  },
  {
   "cell_type": "code",
   "execution_count": 59,
   "id": "a0a40021",
   "metadata": {},
   "outputs": [],
   "source": [
    "df_val = read_data('./fhv_tripdata_2021-02.parquet')"
   ]
  },
  {
   "cell_type": "code",
   "execution_count": 60,
   "id": "558f820e",
   "metadata": {},
   "outputs": [],
   "source": [
    "val_dicts = df_val[categorical].to_dict(orient='records')"
   ]
  },
  {
   "cell_type": "code",
   "execution_count": 61,
   "id": "70b1542b",
   "metadata": {},
   "outputs": [],
   "source": [
    "X_val = dv.transform(val_dicts) \n",
    "y_pred = lr.predict(X_val)\n",
    "y_val = df_val.duration.values\n",
    "\n",
    "val_mse = mean_squared_error(y_val, y_pred, squared=False)"
   ]
  },
  {
   "cell_type": "code",
   "execution_count": 62,
   "id": "23075e18",
   "metadata": {},
   "outputs": [
    {
     "name": "stdout",
     "output_type": "stream",
     "text": [
      "Q6: What is the RMSE on validation?\n",
      "A6: 11.014283139629091\n"
     ]
    }
   ],
   "source": [
    "print('Q6: What is the RMSE on validation?')\n",
    "print(f'A6: {val_mse}')"
   ]
  },
  {
   "cell_type": "code",
   "execution_count": null,
   "id": "20158696",
   "metadata": {},
   "outputs": [],
   "source": []
  }
 ],
 "metadata": {
  "kernelspec": {
   "display_name": "Python 3 (ipykernel)",
   "language": "python",
   "name": "python3"
  },
  "language_info": {
   "codemirror_mode": {
    "name": "ipython",
    "version": 3
   },
   "file_extension": ".py",
   "mimetype": "text/x-python",
   "name": "python",
   "nbconvert_exporter": "python",
   "pygments_lexer": "ipython3",
   "version": "3.9.12"
  }
 },
 "nbformat": 4,
 "nbformat_minor": 5
}
